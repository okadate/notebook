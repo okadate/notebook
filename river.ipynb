{
 "cells": [
  {
   "cell_type": "code",
   "execution_count": 6,
   "metadata": {
    "collapsed": false,
    "scrolled": true
   },
   "outputs": [
    {
     "data": {
      "text/html": [
       "<div>\n",
       "<table border=\"1\" class=\"dataframe\">\n",
       "  <thead>\n",
       "    <tr style=\"text-align: right;\">\n",
       "      <th></th>\n",
       "      <th>year</th>\n",
       "      <th>river</th>\n",
       "      <th>station</th>\n",
       "      <th>DO</th>\n",
       "      <th>COD</th>\n",
       "      <th>TN</th>\n",
       "      <th>TP</th>\n",
       "      <th>NH4</th>\n",
       "      <th>NO3</th>\n",
       "      <th>NO2</th>\n",
       "      <th>PO4</th>\n",
       "      <th>NO23</th>\n",
       "      <th>TON</th>\n",
       "      <th>TOP</th>\n",
       "    </tr>\n",
       "  </thead>\n",
       "  <tbody>\n",
       "    <tr>\n",
       "      <th>0</th>\n",
       "      <td>H23</td>\n",
       "      <td>淀川</td>\n",
       "      <td>枚方大橋流心</td>\n",
       "      <td>9.6</td>\n",
       "      <td>3.3</td>\n",
       "      <td>1.0</td>\n",
       "      <td>0.071</td>\n",
       "      <td>0.04</td>\n",
       "      <td>0.77</td>\n",
       "      <td>0.04</td>\n",
       "      <td>0.044</td>\n",
       "      <td>0.81</td>\n",
       "      <td>0.15</td>\n",
       "      <td>0.027</td>\n",
       "    </tr>\n",
       "    <tr>\n",
       "      <th>1</th>\n",
       "      <td>H23</td>\n",
       "      <td>大和川</td>\n",
       "      <td>遠里小野橋</td>\n",
       "      <td>9.3</td>\n",
       "      <td>6.4</td>\n",
       "      <td>3.8</td>\n",
       "      <td>0.340</td>\n",
       "      <td>0.12</td>\n",
       "      <td>3.00</td>\n",
       "      <td>0.06</td>\n",
       "      <td>0.270</td>\n",
       "      <td>3.06</td>\n",
       "      <td>0.62</td>\n",
       "      <td>0.070</td>\n",
       "    </tr>\n",
       "    <tr>\n",
       "      <th>2</th>\n",
       "      <td>H24</td>\n",
       "      <td>淀川</td>\n",
       "      <td>枚方大橋流心</td>\n",
       "      <td>9.7</td>\n",
       "      <td>3.6</td>\n",
       "      <td>1.1</td>\n",
       "      <td>0.075</td>\n",
       "      <td>0.04</td>\n",
       "      <td>0.77</td>\n",
       "      <td>0.04</td>\n",
       "      <td>0.044</td>\n",
       "      <td>0.81</td>\n",
       "      <td>0.25</td>\n",
       "      <td>0.031</td>\n",
       "    </tr>\n",
       "    <tr>\n",
       "      <th>3</th>\n",
       "      <td>H24</td>\n",
       "      <td>大和川</td>\n",
       "      <td>遠里小野橋</td>\n",
       "      <td>9.5</td>\n",
       "      <td>6.2</td>\n",
       "      <td>3.7</td>\n",
       "      <td>0.370</td>\n",
       "      <td>0.12</td>\n",
       "      <td>2.90</td>\n",
       "      <td>0.06</td>\n",
       "      <td>0.300</td>\n",
       "      <td>2.96</td>\n",
       "      <td>0.62</td>\n",
       "      <td>0.070</td>\n",
       "    </tr>\n",
       "    <tr>\n",
       "      <th>4</th>\n",
       "      <td>H25</td>\n",
       "      <td>淀川</td>\n",
       "      <td>枚方大橋流心</td>\n",
       "      <td>9.7</td>\n",
       "      <td>3.6</td>\n",
       "      <td>1.2</td>\n",
       "      <td>0.091</td>\n",
       "      <td>0.04</td>\n",
       "      <td>0.90</td>\n",
       "      <td>0.04</td>\n",
       "      <td>0.062</td>\n",
       "      <td>0.94</td>\n",
       "      <td>0.22</td>\n",
       "      <td>0.029</td>\n",
       "    </tr>\n",
       "    <tr>\n",
       "      <th>5</th>\n",
       "      <td>H25</td>\n",
       "      <td>大和川</td>\n",
       "      <td>遠里小野橋</td>\n",
       "      <td>9.8</td>\n",
       "      <td>6.3</td>\n",
       "      <td>3.9</td>\n",
       "      <td>0.380</td>\n",
       "      <td>0.09</td>\n",
       "      <td>3.00</td>\n",
       "      <td>0.05</td>\n",
       "      <td>0.320</td>\n",
       "      <td>3.05</td>\n",
       "      <td>0.76</td>\n",
       "      <td>0.060</td>\n",
       "    </tr>\n",
       "  </tbody>\n",
       "</table>\n",
       "</div>"
      ],
      "text/plain": [
       "  year river station   DO  COD   TN     TP   NH4   NO3   NO2    PO4  NO23  \\\n",
       "0  H23    淀川  枚方大橋流心  9.6  3.3  1.0  0.071  0.04  0.77  0.04  0.044  0.81   \n",
       "1  H23   大和川   遠里小野橋  9.3  6.4  3.8  0.340  0.12  3.00  0.06  0.270  3.06   \n",
       "2  H24    淀川  枚方大橋流心  9.7  3.6  1.1  0.075  0.04  0.77  0.04  0.044  0.81   \n",
       "3  H24   大和川   遠里小野橋  9.5  6.2  3.7  0.370  0.12  2.90  0.06  0.300  2.96   \n",
       "4  H25    淀川  枚方大橋流心  9.7  3.6  1.2  0.091  0.04  0.90  0.04  0.062  0.94   \n",
       "5  H25   大和川   遠里小野橋  9.8  6.3  3.9  0.380  0.09  3.00  0.05  0.320  3.05   \n",
       "\n",
       "    TON    TOP  \n",
       "0  0.15  0.027  \n",
       "1  0.62  0.070  \n",
       "2  0.25  0.031  \n",
       "3  0.62  0.070  \n",
       "4  0.22  0.029  \n",
       "5  0.76  0.060  "
      ]
     },
     "execution_count": 6,
     "metadata": {},
     "output_type": "execute_result"
    }
   ],
   "source": [
    "% matplotlib inline\n",
    "\n",
    "import pandas as pd\n",
    "\n",
    "filename = 'F:/okada/Dropbox/Data/river/river.csv'\n",
    "\n",
    "df = pd.read_csv(filename, encoding='Shift_JIS')\n",
    "df['NO23'] = df.NO2 + df.NO3\n",
    "df['TON'] = df.TN - df.NH4 - df.NO2 - df.NO3\n",
    "df['TOP'] = df.TP - df.PO4\n",
    "df"
   ]
  },
  {
   "cell_type": "code",
   "execution_count": 32,
   "metadata": {
    "collapsed": false
   },
   "outputs": [
    {
     "data": {
      "text/html": [
       "<div>\n",
       "<table border=\"1\" class=\"dataframe\">\n",
       "  <thead>\n",
       "    <tr style=\"text-align: right;\">\n",
       "      <th></th>\n",
       "      <th>DO</th>\n",
       "      <th>NH4</th>\n",
       "      <th>NO23</th>\n",
       "      <th>TON</th>\n",
       "      <th>PO4</th>\n",
       "      <th>TOP</th>\n",
       "    </tr>\n",
       "  </thead>\n",
       "  <tbody>\n",
       "    <tr>\n",
       "      <th>yamato</th>\n",
       "      <td>9.533333</td>\n",
       "      <td>0.11</td>\n",
       "      <td>3.023333</td>\n",
       "      <td>0.666667</td>\n",
       "      <td>0.296667</td>\n",
       "      <td>0.066667</td>\n",
       "    </tr>\n",
       "    <tr>\n",
       "      <th>yodo</th>\n",
       "      <td>9.666667</td>\n",
       "      <td>0.04</td>\n",
       "      <td>0.853333</td>\n",
       "      <td>0.206667</td>\n",
       "      <td>0.050000</td>\n",
       "      <td>0.029000</td>\n",
       "    </tr>\n",
       "  </tbody>\n",
       "</table>\n",
       "</div>"
      ],
      "text/plain": [
       "              DO   NH4      NO23       TON       PO4       TOP\n",
       "yamato  9.533333  0.11  3.023333  0.666667  0.296667  0.066667\n",
       "yodo    9.666667  0.04  0.853333  0.206667  0.050000  0.029000"
      ]
     },
     "execution_count": 32,
     "metadata": {},
     "output_type": "execute_result"
    }
   ],
   "source": [
    "gr = df.groupby('river').mean()\n",
    "gr = gr[['DO', 'NH4', 'NO23', 'TON', 'PO4', 'TOP']]\n",
    "gr.index = ['yamato', 'yodo']\n",
    "gr"
   ]
  },
  {
   "cell_type": "code",
   "execution_count": 45,
   "metadata": {
    "collapsed": false
   },
   "outputs": [
    {
     "data": {
      "text/html": [
       "<div>\n",
       "<table border=\"1\" class=\"dataframe\">\n",
       "  <thead>\n",
       "    <tr style=\"text-align: right;\">\n",
       "      <th></th>\n",
       "      <th>DO</th>\n",
       "      <th>NH4</th>\n",
       "      <th>NO23</th>\n",
       "      <th>TON</th>\n",
       "      <th>PO4</th>\n",
       "      <th>TOP</th>\n",
       "    </tr>\n",
       "  </thead>\n",
       "  <tbody>\n",
       "    <tr>\n",
       "      <th>yamato</th>\n",
       "      <td>9.533333</td>\n",
       "      <td>0.110</td>\n",
       "      <td>3.023333</td>\n",
       "      <td>0.666667</td>\n",
       "      <td>0.296667</td>\n",
       "      <td>0.066667</td>\n",
       "    </tr>\n",
       "    <tr>\n",
       "      <th>yodo</th>\n",
       "      <td>9.666667</td>\n",
       "      <td>0.040</td>\n",
       "      <td>0.853333</td>\n",
       "      <td>0.206667</td>\n",
       "      <td>0.050000</td>\n",
       "      <td>0.029000</td>\n",
       "    </tr>\n",
       "    <tr>\n",
       "      <th>mean</th>\n",
       "      <td>9.600000</td>\n",
       "      <td>0.075</td>\n",
       "      <td>1.938333</td>\n",
       "      <td>0.436667</td>\n",
       "      <td>0.173333</td>\n",
       "      <td>0.047833</td>\n",
       "    </tr>\n",
       "  </tbody>\n",
       "</table>\n",
       "</div>"
      ],
      "text/plain": [
       "              DO    NH4      NO23       TON       PO4       TOP\n",
       "yamato  9.533333  0.110  3.023333  0.666667  0.296667  0.066667\n",
       "yodo    9.666667  0.040  0.853333  0.206667  0.050000  0.029000\n",
       "mean    9.600000  0.075  1.938333  0.436667  0.173333  0.047833"
      ]
     },
     "execution_count": 45,
     "metadata": {},
     "output_type": "execute_result"
    }
   ],
   "source": [
    "gr.mean()\n",
    "gr2 = pd.concat([gr, pd.DataFrame(gr.mean(axis=0), columns=['mean']).T])\n",
    "gr2"
   ]
  },
  {
   "cell_type": "code",
   "execution_count": 46,
   "metadata": {
    "collapsed": false
   },
   "outputs": [],
   "source": [
    "gr2.to_csv('F:/okada/Dropbox/Data/river/river_avg.csv')"
   ]
  },
  {
   "cell_type": "code",
   "execution_count": null,
   "metadata": {
    "collapsed": true
   },
   "outputs": [],
   "source": []
  }
 ],
 "metadata": {
  "kernelspec": {
   "display_name": "Python 2",
   "language": "python",
   "name": "python2"
  },
  "language_info": {
   "codemirror_mode": {
    "name": "ipython",
    "version": 2
   },
   "file_extension": ".py",
   "mimetype": "text/x-python",
   "name": "python",
   "nbconvert_exporter": "python",
   "pygments_lexer": "ipython2",
   "version": "2.7.10"
  }
 },
 "nbformat": 4,
 "nbformat_minor": 0
}
