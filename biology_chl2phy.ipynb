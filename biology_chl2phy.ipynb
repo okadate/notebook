{
 "cells": [
  {
   "cell_type": "code",
   "execution_count": 9,
   "metadata": {
    "collapsed": false
   },
   "outputs": [
    {
     "data": {
      "text/plain": [
       "0.23491855887448168"
      ]
     },
     "execution_count": 9,
     "metadata": {},
     "output_type": "execute_result"
    }
   ],
   "source": [
    "mol2gN = 14.01 / 1000.0\n",
    "\n",
    "def chl2phy(chl, Chl2C=0.0535):\n",
    "    \n",
    "    Chl2C_m = 0.0535  # [mg_Chl/mg_C]\n",
    "    PhyCN =6.625  # [mole_C/mole_N]\n",
    "    C = 12.01  # [mole_C/g_C]\n",
    "    \n",
    "    if Chl2C < Chl2C_m:\n",
    "        return chl/(Chl2C*PhyCN*C)\n",
    "    else:\n",
    "        return chl/(Chl2C*PhyCN*C)\n",
    "\n",
    "chl2phy(1.0)"
   ]
  },
  {
   "cell_type": "code",
   "execution_count": 8,
   "metadata": {
    "collapsed": false
   },
   "outputs": [
    {
     "data": {
      "text/plain": [
       "0.003521593640519693"
      ]
     },
     "execution_count": 8,
     "metadata": {},
     "output_type": "execute_result"
    }
   ],
   "source": [
    "chl2phy(1.0, 0.05)*mol2gN"
   ]
  },
  {
   "cell_type": "code",
   "execution_count": null,
   "metadata": {
    "collapsed": true
   },
   "outputs": [],
   "source": []
  }
 ],
 "metadata": {
  "kernelspec": {
   "display_name": "Python 2",
   "language": "python",
   "name": "python2"
  },
  "language_info": {
   "codemirror_mode": {
    "name": "ipython",
    "version": 2
   },
   "file_extension": ".py",
   "mimetype": "text/x-python",
   "name": "python",
   "nbconvert_exporter": "python",
   "pygments_lexer": "ipython2",
   "version": "2.7.10"
  }
 },
 "nbformat": 4,
 "nbformat_minor": 0
}
