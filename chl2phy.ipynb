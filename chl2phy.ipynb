{
 "cells": [
  {
   "cell_type": "code",
   "execution_count": 5,
   "metadata": {
    "collapsed": false
   },
   "outputs": [
    {
     "data": {
      "text/plain": [
       "2.4186064542406234"
      ]
     },
     "execution_count": 5,
     "metadata": {},
     "output_type": "execute_result"
    }
   ],
   "source": [
    "def chl2phy(chl, Chl2C=0.0535):\n",
    "    \n",
    "    Chl2C_m = 0.0535  # [mg_Chl/mg_C]\n",
    "    PhyCN =6.625  # [mole_C/mole_N]\n",
    "    C = 12.01  # [mole_C/g_C]\n",
    "    N = 14.01  # [mole_N/g_N]\n",
    "    \n",
    "    if Chl2C < Chl2C_m:\n",
    "        return chl/Chl2C*C/PhyCN/N\n",
    "    else:\n",
    "        return chl/Chl2C_m*C/PhyCN/N\n",
    "\n",
    "chl2phy(1.0)"
   ]
  },
  {
   "cell_type": "code",
   "execution_count": 6,
   "metadata": {
    "collapsed": false
   },
   "outputs": [
    {
     "data": {
      "text/plain": [
       "2.5879089060374665"
      ]
     },
     "execution_count": 6,
     "metadata": {},
     "output_type": "execute_result"
    }
   ],
   "source": [
    "chl2phy(1.0, 0.05)"
   ]
  },
  {
   "cell_type": "code",
   "execution_count": null,
   "metadata": {
    "collapsed": true
   },
   "outputs": [],
   "source": []
  }
 ],
 "metadata": {
  "kernelspec": {
   "display_name": "Python 2",
   "language": "python",
   "name": "python2"
  },
  "language_info": {
   "codemirror_mode": {
    "name": "ipython",
    "version": 2
   },
   "file_extension": ".py",
   "mimetype": "text/x-python",
   "name": "python",
   "nbconvert_exporter": "python",
   "pygments_lexer": "ipython2",
   "version": "2.7.10"
  }
 },
 "nbformat": 4,
 "nbformat_minor": 0
}
