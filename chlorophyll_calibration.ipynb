{
 "cells": [
  {
   "cell_type": "code",
   "execution_count": 9,
   "metadata": {
    "collapsed": false
   },
   "outputs": [
    {
     "data": {
      "text/plain": [
       "[<matplotlib.lines.Line2D at 0x3a58780>]"
      ]
     },
     "execution_count": 9,
     "metadata": {},
     "output_type": "execute_result"
    },
    {
     "data": {
      "image/png": "[encoded data removed]",
      "text/plain": [
       "<matplotlib.figure.Figure at 0xd0d1ef0>"
      ]
     },
     "metadata": {},
     "output_type": "display_data"
    }
   ],
   "source": [
    "% matplotlib inline\n",
    "\n",
    "import matplotlib.pyplot as plt\n",
    "import pandas as pd\n",
    "import datetime\n",
    "\n",
    "ship = pd.read_csv('F:/okada/Dropbox/chlorophyll/chlo.csv', encoding='Shift_JIS')\n",
    "ship.columns = ['sname','station','time','layer','depth','vol','chlo','pheo','obweb']\n",
    "plt.plot(ship.obweb, ship.chlo, 'o')"
   ]
  },
  {
   "cell_type": "code",
   "execution_count": 45,
   "metadata": {
    "collapsed": false
   },
   "outputs": [
    {
     "name": "stdout",
     "output_type": "stream",
     "text": [
      "1.4\n",
      "52.6\n",
      "1.86666666667\n",
      "23.5666666667\n",
      "4.53333333333\n",
      "0.95\n",
      "31.0666666667\n",
      "3.12\n",
      "20.3\n",
      "9.56666666667\n",
      "3.56666666667\n",
      "8.43333333333\n",
      "7.9\n",
      "nan\n",
      "2.0\n",
      "7.2\n",
      "31.55\n",
      "6.95\n",
      "3.65\n",
      "8.9\n",
      "4.8\n"
     ]
    },
    {
     "data": {
      "text/plain": [
       "[<matplotlib.lines.Line2D at 0xd5d8c18>]"
      ]
     },
     "execution_count": 45,
     "metadata": {},
     "output_type": "execute_result"
    },
    {
     "data": {
      "image/png": "[encoded data removed]",
      "text/plain": [
       "<matplotlib.figure.Figure at 0xd5d8c50>"
      ]
     },
     "metadata": {},
     "output_type": "display_data"
    }
   ],
   "source": [
    "sname = {3:'kanku', 4:'kobe', 5:'yodo', 6:'hannan', 7:'sakai',12:'osaka', 13:'kishiwada'}\n",
    "\n",
    "obweb1 = []\n",
    "for i in range(len(ship)):\n",
    "    sh = ship.loc[i]\n",
    "    station = sh.station\n",
    "    dtime = datetime.datetime.strptime(sh.time, '%Y/%m/%d %H:%M')\n",
    "    time = datetime.datetime.strftime(dtime, '%Y%m')\n",
    "    fname= 'F:/okada/Dropbox/chlorophyll/{}_{}.csv'.format(sname[station], time)\n",
    "    ob = pd.read_csv(fname, encoding='Shift_JIS', na_values='*')\n",
    "    ob.columns = ['sname','time','layer','depth','bottom','temp','salt','light','DO','FTU','chlo']\n",
    "    \n",
    "    ob1 = ob[ob.time==sh.time]\n",
    "    ob1 = ob1[(ob1.layer>=sh.layer-1) & (ob1.layer<=sh.layer+1)]\n",
    "    obweb1.append(ob1.chlo.mean())\n",
    "    \n",
    "    ob2 = ob[ob.layer==sh.layer]\n",
    "    delta = datetime.timedelta(hours=1)\n",
    "    #ob2_dtime = [datetime.datetime.strptime(t, '%Y/%m/%d %H:%M') for t in ob2.time.tolist()]\n",
    "    #ob2 = ob2[(ob2_dtime>=dtime-delta) & (ob2_dtime<=dtime+delta)]\n",
    "    \n",
    "    print ob1.chlo.mean()\n",
    "\n",
    "plt.plot(ship.obweb, ship.chlo, 'bo')\n",
    "plt.plot(obweb1, ship.chlo, 'ro')"
   ]
  },
  {
   "cell_type": "code",
   "execution_count": null,
   "metadata": {
    "collapsed": true
   },
   "outputs": [],
   "source": []
  }
 ],
 "metadata": {
  "kernelspec": {
   "display_name": "Python 2",
   "language": "python",
   "name": "python2"
  },
  "language_info": {
   "codemirror_mode": {
    "name": "ipython",
    "version": 2
   },
   "file_extension": ".py",
   "mimetype": "text/x-python",
   "name": "python",
   "nbconvert_exporter": "python",
   "pygments_lexer": "ipython2",
   "version": "2.7.10"
  }
 },
 "nbformat": 4,
 "nbformat_minor": 0
}
