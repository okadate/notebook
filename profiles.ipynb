{
 "cells": [
  {
   "cell_type": "code",
   "execution_count": 2,
   "metadata": {
    "collapsed": false
   },
   "outputs": [],
   "source": [
    "%matplotlib inline\n",
    "\n",
    "import csv\n",
    "import netCDF4\n",
    "import numpy as np\n",
    "import matplotlib.pyplot as plt\n",
    "import sys\n",
    "import datetime as dt\n",
    "import pandas as pd\n",
    "\n",
    "def read_sta(filename, pdt):\n",
    "    \n",
    "    print filename\n",
    "    print pdt\n",
    "    \n",
    "    nc = netCDF4.Dataset(filename, 'r')\n",
    "    station = len(nc.dimensions['station'])\n",
    "    s_rho = len(nc.dimensions['s_rho'])\n",
    "    h = nc.variables['h'][:]\n",
    "    Cs_r = nc.variables['Cs_r'][:]\n",
    "    ocean_time = nc.variables['ocean_time'][:]\n",
    "    #time_units = nc.variables['ocean_time'].units\n",
    "    time_units = 'seconds since 2012-06-01 00:00:00'\n",
    "    \n",
    "    print netCDF4.num2date(ocean_time[0], time_units),'-',netCDF4.num2date(ocean_time[-1], time_units)\n",
    "    \n",
    "    ptime = netCDF4.date2num(pdt, time_units)\n",
    "    t = np.where(ocean_time == ptime)[0][0]\n",
    "    \n",
    "    print t\n",
    "            \n",
    "    zeta = nc.variables['zeta'][t,:]\n",
    "    depth = np.ndarray(shape=[station,s_rho])\n",
    "    for n in range(s_rho):\n",
    "        for sta in range(station):\n",
    "            depth[sta, n] = (h[sta]+zeta[sta]) * Cs_r[n]\n",
    "    return nc, t, depth\n",
    "\n",
    "def plot_sta(vname, station, nc, t, depth, ax, label):\n",
    "\n",
    "    var = nc.variables[vname]\n",
    "    if vname == 'phytoplankton':\n",
    "        cff = 1.0/0.2515/2.18\n",
    "    else:\n",
    "        cff = 1.0\n",
    "    if label == 'Free': line = '--'\n",
    "    if label == 'Assi': line = '-'\n",
    "    \n",
    "    ax.plot(var[t,station-1,:]*cff, depth[station-1,:], line, c=c[vname], label=label)\n",
    "\n",
    "    #ax.tick_params(labelleft='off')\n",
    "    ax.set_ylim(-14,0)\n",
    "    ax.set_title('Sta.{}, {}'.format(station, pdt.strftime('%Y-%m-%d %H:%M')))\n",
    "    ax.grid()"
   ]
  },
  {
   "cell_type": "code",
   "execution_count": 3,
   "metadata": {
    "collapsed": false
   },
   "outputs": [],
   "source": [
    "def read_obs(obsfile, pdt):\n",
    "    \n",
    "    print obsfile\n",
    "    print pdt\n",
    "    \n",
    "    nc = netCDF4.Dataset(obsfile, 'r')\n",
    "    tunits = nc.variables['obs_time'].units\n",
    "    ptime = netCDF4.date2num(pdt, tunits)\n",
    "    print ptime\n",
    "    \n",
    "    obs_time = nc.variables['obs_time'][:]\n",
    "    print netCDF4.num2date(obs_time[0], tunits),'-',netCDF4.num2date(obs_time[-1], tunits)\n",
    "    \n",
    "    t = np.where(obs_time == ptime)[0]\n",
    "    obs_station = nc.variables['obs_station'][t[0]:t[-1]]\n",
    "    obs_type = nc.variables['obs_type'][t[0]:t[-1]]\n",
    "    obs_depth = nc.variables['obs_depth'][t[0]:t[-1]]\n",
    "    obs_value = nc.variables['obs_value'][t[0]:t[-1]]\n",
    "    \n",
    "    df = pd.DataFrame(data={'station':obs_station, 'depth':obs_depth, 'type':obs_type, 'value':obs_value})\n",
    "    return df\n",
    "\n",
    "def plot_obs(vname, station, obs, ax):\n",
    "    \n",
    "    if vname == 'temp': vid = 6\n",
    "    if vname == 'salt': vid = 7\n",
    "    if vname == 'NO3': return\n",
    "    if vname == 'zooplankton': return\n",
    "    if vname == 'detritus': return\n",
    "    if vname == 'phytoplankton':\n",
    "        vid = 10\n",
    "        cff = 1.0/0.2515/2.18\n",
    "    else:\n",
    "        cff = 1.0\n",
    "    \n",
    "    var = obs[obs.station == station]\n",
    "    var = var[var.type == vid]\n",
    "    ax.plot(var.value*cff, var.depth, 'o', mec='k', mfc='w',mew=1, label='Obs')"
   ]
  },
  {
   "cell_type": "code",
   "execution_count": 4,
   "metadata": {
    "collapsed": false
   },
   "outputs": [
    {
     "name": "stdout",
     "output_type": "stream",
     "text": [
      "/Users/teruhisa/mpi00/fujii/non_wq/trunk_NL_20120608_5/osaka-bay_sta.nc\n",
      "2012-08-24 00:00:00\n"
     ]
    },
    {
     "ename": "RuntimeError",
     "evalue": "Device not configured",
     "output_type": "error",
     "traceback": [
      "\u001b[0;31m---------------------------------------------------------------------------\u001b[0m",
      "\u001b[0;31mRuntimeError\u001b[0m                              Traceback (most recent call last)",
      "\u001b[0;32m<ipython-input-4-30380c92bba0>\u001b[0m in \u001b[0;36m<module>\u001b[0;34m()\u001b[0m\n\u001b[1;32m      2\u001b[0m \u001b[0;34m\u001b[0m\u001b[0m\n\u001b[1;32m      3\u001b[0m \u001b[0mfree\u001b[0m \u001b[0;34m=\u001b[0m \u001b[0;34m'/Users/teruhisa/mpi00/fujii/non_wq/trunk_NL_20120608_5/osaka-bay_sta.nc'\u001b[0m\u001b[0;34m\u001b[0m\u001b[0m\n\u001b[0;32m----> 4\u001b[0;31m \u001b[0mfree\u001b[0m\u001b[0;34m,\u001b[0m \u001b[0mft\u001b[0m\u001b[0;34m,\u001b[0m \u001b[0mfdepth\u001b[0m \u001b[0;34m=\u001b[0m \u001b[0mread_sta\u001b[0m\u001b[0;34m(\u001b[0m\u001b[0mfree\u001b[0m\u001b[0;34m,\u001b[0m \u001b[0mpdt\u001b[0m\u001b[0;34m)\u001b[0m\u001b[0;34m\u001b[0m\u001b[0m\n\u001b[0m",
      "\u001b[0;32m<ipython-input-2-5c18a5eb3fcc>\u001b[0m in \u001b[0;36mread_sta\u001b[0;34m(filename, pdt)\u001b[0m\n\u001b[1;32m     14\u001b[0m     \u001b[0;32mprint\u001b[0m \u001b[0mpdt\u001b[0m\u001b[0;34m\u001b[0m\u001b[0m\n\u001b[1;32m     15\u001b[0m \u001b[0;34m\u001b[0m\u001b[0m\n\u001b[0;32m---> 16\u001b[0;31m     \u001b[0mnc\u001b[0m \u001b[0;34m=\u001b[0m \u001b[0mnetCDF4\u001b[0m\u001b[0;34m.\u001b[0m\u001b[0mDataset\u001b[0m\u001b[0;34m(\u001b[0m\u001b[0mfilename\u001b[0m\u001b[0;34m,\u001b[0m \u001b[0;34m'r'\u001b[0m\u001b[0;34m)\u001b[0m\u001b[0;34m\u001b[0m\u001b[0m\n\u001b[0m\u001b[1;32m     17\u001b[0m     \u001b[0mstation\u001b[0m \u001b[0;34m=\u001b[0m \u001b[0mlen\u001b[0m\u001b[0;34m(\u001b[0m\u001b[0mnc\u001b[0m\u001b[0;34m.\u001b[0m\u001b[0mdimensions\u001b[0m\u001b[0;34m[\u001b[0m\u001b[0;34m'station'\u001b[0m\u001b[0;34m]\u001b[0m\u001b[0;34m)\u001b[0m\u001b[0;34m\u001b[0m\u001b[0m\n\u001b[1;32m     18\u001b[0m     \u001b[0ms_rho\u001b[0m \u001b[0;34m=\u001b[0m \u001b[0mlen\u001b[0m\u001b[0;34m(\u001b[0m\u001b[0mnc\u001b[0m\u001b[0;34m.\u001b[0m\u001b[0mdimensions\u001b[0m\u001b[0;34m[\u001b[0m\u001b[0;34m's_rho'\u001b[0m\u001b[0;34m]\u001b[0m\u001b[0;34m)\u001b[0m\u001b[0;34m\u001b[0m\u001b[0m\n",
      "\u001b[0;32mnetCDF4/_netCDF4.pyx\u001b[0m in \u001b[0;36mnetCDF4._netCDF4.Dataset.__init__ (netCDF4/_netCDF4.c:9551)\u001b[0;34m()\u001b[0m\n",
      "\u001b[0;31mRuntimeError\u001b[0m: Device not configured"
     ]
    }
   ],
   "source": [
    "pdt = dt.datetime(2012,8,24,0)\n",
    "\n",
    "free = '/Users/teruhisa/mpi00/fujii/non_wq/trunk_NL_20120608_5/osaka-bay_sta.nc'\n",
    "free, ft, fdepth = read_sta(free, pdt)"
   ]
  },
  {
   "cell_type": "code",
   "execution_count": null,
   "metadata": {
    "collapsed": false
   },
   "outputs": [],
   "source": [
    "assi = '/Users/teruhisa/mpi00/fujii/group_4dvar210_2/sta/osaka-bay_sta_024.nc'\n",
    "assi, at, adepth = read_sta(assi, pdt)"
   ]
  },
  {
   "cell_type": "code",
   "execution_count": null,
   "metadata": {
    "collapsed": false
   },
   "outputs": [],
   "source": [
    "obs = '/Users/teruhisa/hydcl00/okada/OB500/Data/ob500_obs_tsdc.nc'\n",
    "obs = read_obs(obs, pdt)"
   ]
  },
  {
   "cell_type": "code",
   "execution_count": null,
   "metadata": {
    "collapsed": false
   },
   "outputs": [],
   "source": [
    "station = 12\n",
    "\n",
    "vnames = ['temp', 'salt', 'phytoplankton', 'NO3', 'zooplankton', 'detritus']\n",
    "    \n",
    "c = {}\n",
    "c['temp'] = 'c'\n",
    "c['salt'] = 'k'\n",
    "c['phytoplankton'] = 'g'\n",
    "c['NO3'] = 'r'\n",
    "c['zooplankton'] = 'b'\n",
    "c['detritus'] = 'm'\n",
    "\n",
    "fig, ax = plt.subplots(1, len(vnames), figsize=[20,3])\n",
    "for i, vname in enumerate(vnames):\n",
    "    plot_sta(vname, station, free, ft, fdepth, ax[i], 'Free')\n",
    "    plot_sta(vname, station, assi, at, adepth, ax[i], 'Assi')\n",
    "    plot_obs(vname, station, obs, ax[i])\n",
    "    ax[i].grid()\n",
    "\n",
    "ax[0].set_xlabel('Temperature [degC]')\n",
    "ax[0].set_xlim(23,33)\n",
    "ax[0].tick_params(labelleft='on')\n",
    "\n",
    "ax[1].set_xlabel('Salinity')\n",
    "ax[1].set_xlim(15,33)\n",
    "\n",
    "ax[2].set_xlabel('Chlorophyll [mg m$^{-3}$]')\n",
    "#ax[2].set_xlim(0,20)\n",
    "\n",
    "mol = u' [mmol N m$^{-3}$]'\n",
    "ax[3].set_xlabel('NO3'+mol)\n",
    "ax[3].set_xlim(0,0.5)\n",
    "\n",
    "ax[4].set_xlabel('Zooplankton'+mol)\n",
    "ax[4].set_xlim(0,2.5)\n",
    "\n",
    "ax[5].set_xlabel('Detritus'+mol)\n",
    "ax[5].set_xlim(0,2)"
   ]
  },
  {
   "cell_type": "code",
   "execution_count": null,
   "metadata": {
    "collapsed": false
   },
   "outputs": [],
   "source": [
    "strtime = pdt.strftime('%Y%m%d_%H%M')\n",
    "fig.savefig('{}_{}.png'.format(strtime, station), bbox_inches='tight')"
   ]
  },
  {
   "cell_type": "code",
   "execution_count": null,
   "metadata": {
    "collapsed": true
   },
   "outputs": [],
   "source": []
  }
 ],
 "metadata": {
  "kernelspec": {
   "display_name": "Python 2",
   "language": "python",
   "name": "python2"
  },
  "language_info": {
   "codemirror_mode": {
    "name": "ipython",
    "version": 2
   },
   "file_extension": ".py",
   "mimetype": "text/x-python",
   "name": "python",
   "nbconvert_exporter": "python",
   "pygments_lexer": "ipython2",
   "version": "2.7.10"
  }
 },
 "nbformat": 4,
 "nbformat_minor": 0
}
