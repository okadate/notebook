{
 "cells": [
  {
   "cell_type": "code",
   "execution_count": 3,
   "metadata": {
    "collapsed": false
   },
   "outputs": [
    {
     "name": "stdout",
     "output_type": "stream",
     "text": [
      "[u'wind_time', u'Uwind', u'Vwind']\n"
     ]
    }
   ],
   "source": [
    "%matplotlib inline\n",
    "\n",
    "import matplotlib.pyplot as plt\n",
    "import netCDF4\n",
    "import numpy as np\n",
    "\n",
    "ncfile = '/Users/teruhisa/mpi00/fujii/Data/osaka-bay_frc_wind_gpv_201208.nc'\n",
    "nc = netCDF4.Dataset(ncfile, 'r')\n",
    "print nc.variables.keys()\n",
    "time = nc.variables['wind_time'][:]\n",
    "u = nc.variables['Uwind'][:,0,0]\n",
    "v = nc.variables['Vwind'][:,0,0]"
   ]
  },
  {
   "cell_type": "code",
   "execution_count": null,
   "metadata": {
    "collapsed": false
   },
   "outputs": [],
   "source": [
    "uv = np.sqrt(u**2 + v**2)\n",
    "\n",
    "plt.figure(figsize=(10,2))\n",
    "plt.quiver(time-61), 0, u, v, uv)\n",
    "\n",
    "plt.xlim(22, 24)\n",
    "plt.ylim(-10, 10)\n",
    "\n",
    "plt.savefig('check_wind.png')"
   ]
  },
  {
   "cell_type": "code",
   "execution_count": null,
   "metadata": {
    "collapsed": false
   },
   "outputs": [],
   "source": []
  }
 ],
 "metadata": {
  "kernelspec": {
   "display_name": "Python 2",
   "language": "python",
   "name": "python2"
  },
  "language_info": {
   "codemirror_mode": {
    "name": "ipython",
    "version": 2
   },
   "file_extension": ".py",
   "mimetype": "text/x-python",
   "name": "python",
   "nbconvert_exporter": "python",
   "pygments_lexer": "ipython2",
   "version": "2.7.10"
  }
 },
 "nbformat": 4,
 "nbformat_minor": 0
}
