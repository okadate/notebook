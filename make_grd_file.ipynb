{
 "cells": [
  {
   "cell_type": "code",
   "execution_count": 43,
   "metadata": {
    "collapsed": false
   },
   "outputs": [],
   "source": [
    "import pyroms\n",
    "\n",
    "name = 'ob500'\n",
    "\n",
    "grd = pyroms.grid.ROMS_Grid(name)"
   ]
  },
  {
   "cell_type": "code",
   "execution_count": 44,
   "metadata": {
    "collapsed": false
   },
   "outputs": [],
   "source": [
    "import csv\n",
    "import numpy as np\n",
    "\n",
    "csvfile = '/Users/teruhisa/Dropbox/Data/Grid/9/mesh-v5.csv'\n",
    "\n",
    "x_rho = 117\n",
    "y_rho = 124\n",
    "h = np.zeros([y_rho, x_rho])\n",
    "\n",
    "with open(csvfile, 'r') as f:\n",
    "    reader = csv.reader(f)\n",
    "    next(reader)\n",
    "    for y, row in enumerate(reader):\n",
    "        h[y_rho-y-1, :] = row[1:]"
   ]
  },
  {
   "cell_type": "code",
   "execution_count": 89,
   "metadata": {
    "collapsed": false
   },
   "outputs": [
    {
     "data": {
      "text/plain": [
       "<matplotlib.colorbar.Colorbar instance at 0x110ab40e0>"
      ]
     },
     "execution_count": 89,
     "metadata": {},
     "output_type": "execute_result"
    },
    {
     "data": {
      "image/png": "[encoded data removed]",
      "text/plain": [
       "<matplotlib.figure.Figure at 0x10f45dd10>"
      ]
     },
     "metadata": {},
     "output_type": "display_data"
    }
   ],
   "source": [
    "%matplotlib inline\n",
    "import matplotlib.pyplot as plt\n",
    "\n",
    "plt.pcolor(h)\n",
    "plt.colorbar()"
   ]
  },
  {
   "cell_type": "code",
   "execution_count": 114,
   "metadata": {
    "collapsed": false
   },
   "outputs": [],
   "source": [
    "pyroms.grid.CGrid?"
   ]
  },
  {
   "cell_type": "code",
   "execution_count": 121,
   "metadata": {
    "collapsed": false
   },
   "outputs": [],
   "source": [
    "theta_b = 0\n",
    "theta_s = 3\n",
    "Tcline = 0.5\n",
    "N = 20\n",
    "vgrid = pyroms.vgrid.s_coordinate(h,  theta_b, theta_s, Tcline, N, hraw=h)"
   ]
  },
  {
   "cell_type": "code",
   "execution_count": 123,
   "metadata": {
    "collapsed": false
   },
   "outputs": [
    {
     "data": {
      "text/plain": [
       "array([[   250.,    250.,    250., ...,    250.,    250.,    250.],\n",
       "       [   750.,    750.,    750., ...,    750.,    750.,    750.],\n",
       "       [  1250.,   1250.,   1250., ...,   1250.,   1250.,   1250.],\n",
       "       ..., \n",
       "       [ 60750.,  60750.,  60750., ...,  60750.,  60750.,  60750.],\n",
       "       [ 61250.,  61250.,  61250., ...,  61250.,  61250.,  61250.],\n",
       "       [ 61750.,  61750.,  61750., ...,  61750.,  61750.,  61750.]])"
      ]
     },
     "execution_count": 123,
     "metadata": {},
     "output_type": "execute_result"
    }
   ],
   "source": [
    "x, y = np.mgrid[0:(y_rho+1)*500:500, 0:(x_rho+1)*500:500]\n",
    "#x = np.ma.masked_where((h<0.5), x)\n",
    "#y = np.ma.masked_where((h<0.5), y)\n",
    "hgrid = pyroms.hgrid.CGrid(x, y)\n",
    "hgrid.x_rho"
   ]
  },
  {
   "cell_type": "code",
   "execution_count": 130,
   "metadata": {
    "collapsed": false
   },
   "outputs": [],
   "source": [
    "for x in range(x_rho):\n",
    "    index = np.where(h[:,x]<0.5)\n",
    "    hgrid.mask[index,x] = 0"
   ]
  },
  {
   "cell_type": "code",
   "execution_count": 131,
   "metadata": {
    "collapsed": false
   },
   "outputs": [
    {
     "data": {
      "text/plain": [
       "(124, 117)"
      ]
     },
     "execution_count": 131,
     "metadata": {},
     "output_type": "execute_result"
    }
   ],
   "source": [
    "grd = pyroms.grid.ROMS_Grid(name, hgrid, vgrid)\n",
    "grd.vgrid.h.shape"
   ]
  },
  {
   "cell_type": "code",
   "execution_count": 125,
   "metadata": {
    "collapsed": false
   },
   "outputs": [
    {
     "data": {
      "text/plain": [
       "(124, 117)"
      ]
     },
     "execution_count": 125,
     "metadata": {},
     "output_type": "execute_result"
    }
   ],
   "source": [
    "grd.hgrid.x_rho.shape"
   ]
  },
  {
   "cell_type": "code",
   "execution_count": 132,
   "metadata": {
    "collapsed": false
   },
   "outputs": [
    {
     "data": {
      "text/plain": [
       "array([[ 0.,  0.,  0., ...,  0.,  0.,  0.],\n",
       "       [ 0.,  0.,  0., ...,  0.,  0.,  0.],\n",
       "       [ 0.,  0.,  0., ...,  0.,  0.,  0.],\n",
       "       ..., \n",
       "       [ 1.,  0.,  0., ...,  0.,  0.,  0.],\n",
       "       [ 0.,  0.,  0., ...,  0.,  0.,  0.],\n",
       "       [ 0.,  0.,  0., ...,  0.,  0.,  0.]])"
      ]
     },
     "execution_count": 132,
     "metadata": {},
     "output_type": "execute_result"
    }
   ],
   "source": [
    "grd.hgrid.mask_rho"
   ]
  },
  {
   "cell_type": "code",
   "execution_count": 133,
   "metadata": {
    "collapsed": false
   },
   "outputs": [
    {
     "name": "stdout",
     "output_type": "stream",
     "text": [
      " ... wrote  theta_s\n",
      " ... wrote  theta_b\n",
      " ... wrote  Tcline\n",
      " ... wrote  hc\n",
      " ... wrote  s_rho\n",
      " ... wrote  s_w\n",
      " ... wrote  Cs_r\n",
      " ... wrote  Cs_w\n",
      " ... wrote  h\n",
      " ... wrote  hraw\n",
      " ... wrote  f\n",
      " ... wrote  pm\n",
      " ... wrote  pn\n",
      " ... wrote  dmde\n",
      " ... wrote  dndx\n",
      " ... wrote  xl\n",
      " ... wrote  el\n",
      " ... wrote  x_rho\n",
      " ... wrote  y_rho\n",
      " ... wrote  x_u\n",
      " ... wrote  y_u\n",
      " ... wrote  x_v\n",
      " ... wrote  y_v\n",
      " ... wrote  x_psi\n",
      " ... wrote  y_psi\n",
      " ... wrote  x_vert\n",
      " ... wrote  y_vert\n",
      " ... wrote  spherical\n",
      " ... wrote  angle\n",
      " ... wrote  mask_rho\n",
      " ... wrote  mask_u\n",
      " ... wrote  mask_v\n",
      " ... wrote  mask_psi\n"
     ]
    }
   ],
   "source": [
    "pyroms.grid.write_ROMS_grid(grd, '/Users/teruhisa/Dropbox/Data/ob500_grd-9.0.nc')"
   ]
  },
  {
   "cell_type": "code",
   "execution_count": 64,
   "metadata": {
    "collapsed": false
   },
   "outputs": [],
   "source": [
    "grd.hgrid.mask"
   ]
  },
  {
   "cell_type": "code",
   "execution_count": null,
   "metadata": {
    "collapsed": true
   },
   "outputs": [],
   "source": []
  }
 ],
 "metadata": {
  "kernelspec": {
   "display_name": "Python 2",
   "language": "python",
   "name": "python2"
  },
  "language_info": {
   "codemirror_mode": {
    "name": "ipython",
    "version": 2
   },
   "file_extension": ".py",
   "mimetype": "text/x-python",
   "name": "python",
   "nbconvert_exporter": "python",
   "pygments_lexer": "ipython2",
   "version": "2.7.10"
  }
 },
 "nbformat": 4,
 "nbformat_minor": 0
}
