{
 "cells": [
  {
   "cell_type": "code",
   "execution_count": 15,
   "metadata": {
    "collapsed": false
   },
   "outputs": [
    {
     "name": "stdout",
     "output_type": "stream",
     "text": [
      "0.234918558874\n"
     ]
    },
    {
     "data": {
      "text/plain": [
       "0.23491855887448168"
      ]
     },
     "execution_count": 15,
     "metadata": {},
     "output_type": "execute_result"
    }
   ],
   "source": [
    "mol2gN = 14.01 / 1000.0\n",
    "\n",
    "def chl2phy(chl, Chl2C=0.0535):\n",
    "    \n",
    "    Chl2C_m = 0.0535  # [mg_Chl/mg_C]\n",
    "    PhyCN =6.625  # [mole_C/mole_N]\n",
    "    C = 12.01  # [mole_C/g_C]\n",
    "    \n",
    "    print 1.0/(Chl2C*PhyCN*C)\n",
    "    \n",
    "    if Chl2C < Chl2C_m:\n",
    "        return chl/(Chl2C*PhyCN*C)\n",
    "    else:\n",
    "        return chl/(Chl2C*PhyCN*C)\n",
    "\n",
    "chl2phy(1.0)"
   ]
  },
  {
   "cell_type": "code",
   "execution_count": 16,
   "metadata": {
    "collapsed": false
   },
   "outputs": [
    {
     "name": "stdout",
     "output_type": "stream",
     "text": [
      "0.251362857996\n"
     ]
    },
    {
     "data": {
      "text/plain": [
       "0.003521593640519693"
      ]
     },
     "execution_count": 16,
     "metadata": {},
     "output_type": "execute_result"
    }
   ],
   "source": [
    "chl2phy(1.0, 0.05)*mol2gN"
   ]
  },
  {
   "cell_type": "code",
   "execution_count": 4,
   "metadata": {
    "collapsed": false
   },
   "outputs": [
    {
     "ename": "NameError",
     "evalue": "name 'Chl2C_m' is not defined",
     "output_type": "error",
     "traceback": [
      "\u001b[0;31m---------------------------------------------------------------------------\u001b[0m",
      "\u001b[0;31mNameError\u001b[0m                                 Traceback (most recent call last)",
      "\u001b[0;32m<ipython-input-4-5d79526a703b>\u001b[0m in \u001b[0;36m<module>\u001b[0;34m()\u001b[0m\n\u001b[0;32m----> 1\u001b[0;31m \u001b[0mChl2C_m\u001b[0m\u001b[0;34m*\u001b[0m\u001b[0mPhyCN\u001b[0m\u001b[0;34m*\u001b[0m\u001b[0mC\u001b[0m\u001b[0;34m\u001b[0m\u001b[0m\n\u001b[0m",
      "\u001b[0;31mNameError\u001b[0m: name 'Chl2C_m' is not defined"
     ]
    }
   ],
   "source": []
  },
  {
   "cell_type": "code",
   "execution_count": null,
   "metadata": {
    "collapsed": true
   },
   "outputs": [],
   "source": []
  }
 ],
 "metadata": {
  "kernelspec": {
   "display_name": "Python 2",
   "language": "python",
   "name": "python2"
  },
  "language_info": {
   "codemirror_mode": {
    "name": "ipython",
    "version": 2
   },
   "file_extension": ".py",
   "mimetype": "text/x-python",
   "name": "python",
   "nbconvert_exporter": "python",
   "pygments_lexer": "ipython2",
   "version": "2.7.10"
  }
 },
 "nbformat": 4,
 "nbformat_minor": 0
}
