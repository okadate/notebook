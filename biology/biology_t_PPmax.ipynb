{
 "cells": [
  {
   "cell_type": "code",
   "execution_count": 20,
   "metadata": {
    "collapsed": false
   },
   "outputs": [
    {
     "name": "stdout",
     "output_type": "stream",
     "text": [
      "[ 10.          12.77777778  15.55555556  18.33333333  21.11111111\n",
      "  23.88888889  26.66666667  29.44444444  32.22222222  35.        ]\n",
      "[   0.           10.52631579   21.05263158   31.57894737   42.10526316\n",
      "   52.63157895   63.15789474   73.68421053   84.21052632   94.73684211\n",
      "  105.26315789  115.78947368  126.31578947  136.84210526  147.36842105\n",
      "  157.89473684  168.42105263  178.94736842  189.47368421  200.        ]\n"
     ]
    },
    {
     "data": {
      "text/plain": [
       "<matplotlib.collections.PolyCollection at 0x106cf0850>"
      ]
     },
     "execution_count": 20,
     "metadata": {},
     "output_type": "execute_result"
    },
    {
     "data": {
      "image/png": "[encoded data removed]",
      "text/plain": [
       "<matplotlib.figure.Figure at 0x106782650>"
      ]
     },
     "metadata": {},
     "output_type": "display_data"
    }
   ],
   "source": [
    "%matplotlib inline\n",
    "\n",
    "import matplotlib.pyplot as plt\n",
    "import numpy as np\n",
    "\n",
    "Vp0 = 1.0\n",
    "PhyIS = 0.025\n",
    "T = np.linspace(10, 35, 10)\n",
    "#T = 20\n",
    "print T\n",
    "\n",
    "PAR = np.linspace(0, 200, 20)\n",
    "print PAR\n",
    "\n",
    "#Vp = np.array(size=[len(T)])\n",
    "#fac1 = np.array(size=[len(PAR)])\n",
    "\n",
    "Vp = Vp0 * 0.59 * (1.066 ** T)\n",
    "fac1 = PAR * PhyIS\n",
    "Epp = np.zeros(shape=[10,20])\n",
    "for i, v in enumerate(Vp):\n",
    "    for j, f in enumerate(fac1):\n",
    "        Epp[i, j] = v / np.sqrt(v * v + f * f)\n",
    "        \n",
    "t_PPmax = Epp * fac1\n",
    "#print t_PPmax\n",
    "\n",
    "plt.pcolor(PAR, T, t_PPmax)"
   ]
  },
  {
   "cell_type": "code",
   "execution_count": 42,
   "metadata": {
    "collapsed": false
   },
   "outputs": [
    {
     "data": {
      "text/plain": [
       "<matplotlib.colorbar.Colorbar instance at 0x10af5b908>"
      ]
     },
     "execution_count": 42,
     "metadata": {},
     "output_type": "execute_result"
    },
    {
     "data": {
      "image/png": "[encoded data removed]",
      "text/plain": [
       "<matplotlib.figure.Figure at 0x10a93ca10>"
      ]
     },
     "metadata": {},
     "output_type": "display_data"
    }
   ],
   "source": [
    "beta1 = 0.003\n",
    "beta2 = 0.006\n",
    "t_opt = 25.0\n",
    "I_opt = 46.60\n",
    "ke = 0.01\n",
    "H = 10\n",
    "g_max = 3.0\n",
    "\n",
    "T = np.linspace(10, 35, 10)\n",
    "PAR = np.linspace(0, 200, 20)\n",
    "\n",
    "Gt = np.zeros(shape=[10])\n",
    "for i, t in enumerate(T):\n",
    "    if t <= t_opt:\n",
    "        Gt[i] = np.exp(-beta1 * (t - t_opt) ** 2)\n",
    "    else:\n",
    "        Gt[i] = np.exp(-beta2 * (t_opt - t) ** 2)\n",
    "\n",
    "GI = 2.7 / ke / H * (np.exp(-PAR / I_opt * np.exp(-ke * H)) - np.exp(-PAR / I_opt))\n",
    "\n",
    "G = np.zeros(shape=[10, 20])\n",
    "for i in range(10):\n",
    "    for j in range(20):\n",
    "        G[i, j] = Gt[i] * GI[j]\n",
    "plt.pcolor(PAR, T, G)\n",
    "plt.colorbar()"
   ]
  },
  {
   "cell_type": "code",
   "execution_count": 2,
   "metadata": {
    "collapsed": false
   },
   "outputs": [
    {
     "data": {
      "image/png": "[encoded data removed]",
      "text/plain": [
       "<matplotlib.figure.Figure at 0x3b66cc0>"
      ]
     },
     "metadata": {},
     "output_type": "display_data"
    }
   ],
   "source": [
    "%matplotlib inline\n",
    "\n",
    "import numpy as np\n",
    "import matplotlib.pyplot as plt\n",
    "\n",
    "\n",
    "def simple(T, PAR, Chlo, H):\n",
    "    AttSW = 0.04\n",
    "    AttChl = 0.017\n",
    "    g_max = 3.0\n",
    "    t_opt = 25.0\n",
    "    I_opt = 45.60\n",
    "    beta1 =0.003\n",
    "    beta2 = 0.006\n",
    "    \n",
    "    Att =(AttSW+AttChl*Chlo)*H/2\n",
    "    \n",
    "    cff=(T-t_opt)**2.0\n",
    "    if T <= t_opt:\n",
    "        fac1=np.exp(-beta1*cff)\n",
    "    else:\n",
    "        fac1=np.exp(-beta2*cff)\n",
    "    cff=PAR/I_opt\n",
    "    fac2=np.exp(1.0)/Att*(np.exp(-cff*np.exp(-Att))-np.exp(-cff))\n",
    "    #fac2=np.exp(1.0)\n",
    "    #return fac2\n",
    "    return g_max*fac1*fac2\n",
    "\n",
    "def original(T, PAR, Chlo, H):\n",
    "    AttSW = 0.04\n",
    "    AttChl = 0.017\n",
    "    Vp0 = 1.0\n",
    "    PhyIS = 0.025\n",
    "\n",
    "    Att =(AttSW+AttChl*Chlo)*H\n",
    "    ExpAtt=np.exp(-Att)\n",
    "    Itop=PAR\n",
    "    PAR=Itop*(1.0-ExpAtt)/Att\n",
    "\n",
    "    Vp=Vp0*0.59*(1.066**T)\n",
    "    fac1=PAR*PhyIS\n",
    "    Epp=Vp/np.sqrt(Vp*Vp+fac1*fac1)\n",
    "    return Epp*fac1\n",
    "\n",
    "    \n",
    "T = np.linspace(10,50,50)\n",
    "PAR = np.linspace(0,400,50)\n",
    "Chlo = 1.0\n",
    "H = 3.0\n",
    "Pmax = [np.zeros(shape=[len(T),len(PAR)]) for _ in range(2)]\n",
    "for i, t in enumerate(T):\n",
    "    for j, p in enumerate(PAR):\n",
    "        Pmax[0][i,j] = simple(t, p, Chlo, H)\n",
    "        Pmax[1][i,j] = original(t, p, Chlo, H)\n",
    "\n",
    "fig, ax = plt.subplots(1,2,figsize=[12,5])\n",
    "for i in range(2):\n",
    "    pc = ax[i].pcolor(PAR,T,Pmax[i], vmin=0.0, vmax=1.0)\n",
    "    plt.colorbar(pc, ax=ax[i])"
   ]
  },
  {
   "cell_type": "code",
   "execution_count": null,
   "metadata": {
    "collapsed": true
   },
   "outputs": [],
   "source": []
  }
 ],
 "metadata": {
  "kernelspec": {
   "display_name": "Python 2",
   "language": "python",
   "name": "python2"
  },
  "language_info": {
   "codemirror_mode": {
    "name": "ipython",
    "version": 2
   },
   "file_extension": ".py",
   "mimetype": "text/x-python",
   "name": "python",
   "nbconvert_exporter": "python",
   "pygments_lexer": "ipython2",
   "version": "2.7.10"
  }
 },
 "nbformat": 4,
 "nbformat_minor": 0
}
