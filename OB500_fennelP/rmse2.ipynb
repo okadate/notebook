{
 "cells": [
  {
   "cell_type": "code",
   "execution_count": null,
   "metadata": {
    "collapsed": true
   },
   "outputs": [],
   "source": [
    "def rmse2(obsfile, modfile, varid, drange):\n",
    "\n",
    "    mod = netCDF4.Dataset(modfile, 'r')\n",
    "    obs = netCDF4.Dataset(obsfile, 'r')\n",
    "    trange = netCDF4.date2num(drange, tunit_JST)\n",
    "\n",
    "    time = obs.variables['obs_time'][:]\n",
    "    index = np.where((time > trange[0]) & (time < trange[1]))\n",
    "    \n",
    "    time = netCDF4.num2date(time[index], tunit_JST)\n",
    "    x = mod.variables['NLmodel_value'][index]\n",
    "    y = obs.variables['obs_value'][index]\n",
    "    type = obs.variables['obs_type'][index]\n",
    "    depth = obs.variables['obs_depth'][index]\n",
    "    station = obs.variables['obs_station'][index]\n",
    "    \n",
    "    data = {'station': station, 'depth': depth, 'type': type, 'x': x, 'y': y}\n",
    "    df = pd.DataFrame(data, index=time)\n",
    "    df = df[df.x<999.9]\n",
    "    df = df[df.x>1.0]\n",
    "    df = df[df.type==varid]\n",
    "    \n",
    "    for s in [3,4,5,6,12,13]:\n",
    "        sta = df[df.station==s]\n",
    "        sta['error'] = sta.y - sta.x\n",
    "        sta['SE'] = sta.error ** 2\n",
    "\n",
    "        #print df.head(30)\n",
    "\n",
    "        sta = sta.resample('', how='mean')\n",
    "        sta['RMSE'] = np.sqrt(sta.SE)\n",
    "        sta.RMSE.plot()\n",
    "    \n",
    "obsfile = '/Users/teruhisa/Dropbox/Data/ob500_obs_2012_obweb-2.nc'\n",
    "modfile = '/Users/teruhisa/mnt/apps/OB500_fennelP/NL03/ob500_mod.nc'\n",
    "varid = 7\n",
    "drange = [dt.datetime(2012,1,1,0), dt.datetime(2012,2,1,0)]\n",
    "\n",
    "rmse2(obsfile, modfile, varid, drange)"
   ]
  }
 ],
 "metadata": {
  "kernelspec": {
   "display_name": "Python 2",
   "language": "python",
   "name": "python2"
  },
  "language_info": {
   "codemirror_mode": {
    "name": "ipython",
    "version": 2
   },
   "file_extension": ".py",
   "mimetype": "text/x-python",
   "name": "python",
   "nbconvert_exporter": "python",
   "pygments_lexer": "ipython2",
   "version": "2.7.10"
  }
 },
 "nbformat": 4,
 "nbformat_minor": 0
}
