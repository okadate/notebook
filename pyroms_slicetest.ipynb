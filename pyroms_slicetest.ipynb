{
 "cells": [
  {
   "cell_type": "code",
   "execution_count": 2,
   "metadata": {
    "collapsed": false
   },
   "outputs": [
    {
     "name": "stdout",
     "output_type": "stream",
     "text": [
      "scrip.so not found. Remapping function will not be available\n"
     ]
    }
   ],
   "source": [
    "import pyroms"
   ]
  },
  {
   "cell_type": "code",
   "execution_count": 11,
   "metadata": {
    "collapsed": false
   },
   "outputs": [
    {
     "data": {
      "text/plain": [
       "<pyroms.grid.ROMS_gridinfo at 0x7f776d87ab50>"
      ]
     },
     "execution_count": 11,
     "metadata": {},
     "output_type": "execute_result"
    }
   ],
   "source": [
    "grdfile = '/home/okada/Dropbox/Data/ob500_grd-9.nc'\n",
    "hisfile = '/home/okada/roms/Apps/OB500_fennelP/NL08/ob500_avg.nc'\n",
    "\n",
    "pyroms.grid.ROMS_gridinfo('OB500', grdfile, hisfile)"
   ]
  },
  {
   "cell_type": "code",
   "execution_count": 12,
   "metadata": {
    "collapsed": false
   },
   "outputs": [
    {
     "name": "stdout",
     "output_type": "stream",
     "text": [
      " \n",
      "grid information for gridid  OB500 :\n",
      " \n",
      "grid name :  OB500\n",
      "grid file path :  /home/okada/Dropbox/Data/ob500_grd-9.nc\n",
      "number of vertical level :  20\n",
      "grid type :  roms\n",
      "theta_s =  3.0\n",
      "theta_b =  0.0\n",
      "Tcline  =  0.5\n"
     ]
    }
   ],
   "source": [
    "pyroms.grid.print_ROMS_gridinfo('OB500')"
   ]
  },
  {
   "cell_type": "code",
   "execution_count": 13,
   "metadata": {
    "collapsed": false
   },
   "outputs": [
    {
     "ename": "ImportError",
     "evalue": "No module named move_river_t",
     "output_type": "error",
     "traceback": [
      "\u001b[1;31m---------------------------------------------------------------------------\u001b[0m",
      "\u001b[1;31mImportError\u001b[0m                               Traceback (most recent call last)",
      "\u001b[1;32m<ipython-input-13-d60eca50d048>\u001b[0m in \u001b[0;36m<module>\u001b[1;34m()\u001b[0m\n\u001b[1;32m----> 1\u001b[1;33m \u001b[1;32mimport\u001b[0m \u001b[0mpyroms_toolbox\u001b[0m\u001b[1;33m\u001b[0m\u001b[0m\n\u001b[0m",
      "\u001b[1;32m/home/okada/anaconda/lib/python2.7/site-packages/pyroms_toolbox/__init__.pyc\u001b[0m in \u001b[0;36m<module>\u001b[1;34m()\u001b[0m\n\u001b[0;32m     49\u001b[0m \u001b[1;32mfrom\u001b[0m \u001b[0mget_littoral2\u001b[0m \u001b[1;32mimport\u001b[0m \u001b[0mget_littoral2\u001b[0m\u001b[1;33m\u001b[0m\u001b[0m\n\u001b[0;32m     50\u001b[0m \u001b[1;32mfrom\u001b[0m \u001b[0m_move_runoff\u001b[0m \u001b[1;32mimport\u001b[0m \u001b[0mmove_runoff\u001b[0m\u001b[1;33m\u001b[0m\u001b[0m\n\u001b[1;32m---> 51\u001b[1;33m \u001b[1;32mfrom\u001b[0m \u001b[0mmove_river_t\u001b[0m \u001b[1;32mimport\u001b[0m \u001b[0mmove_river_t\u001b[0m\u001b[1;33m\u001b[0m\u001b[0m\n\u001b[0m\u001b[0;32m     52\u001b[0m \u001b[1;32mfrom\u001b[0m \u001b[0mTS_diagram\u001b[0m \u001b[1;32mimport\u001b[0m \u001b[0mTS_diagram\u001b[0m\u001b[1;33m\u001b[0m\u001b[0m\n\u001b[0;32m     53\u001b[0m \u001b[1;32mfrom\u001b[0m \u001b[0mdate2jday\u001b[0m \u001b[1;32mimport\u001b[0m \u001b[0mdate2jday\u001b[0m\u001b[1;33m\u001b[0m\u001b[0m\n",
      "\u001b[1;31mImportError\u001b[0m: No module named move_river_t"
     ]
    }
   ],
   "source": [
    "import pyroms_toolbox"
   ]
  },
  {
   "cell_type": "code",
   "execution_count": null,
   "metadata": {
    "collapsed": true
   },
   "outputs": [],
   "source": []
  }
 ],
 "metadata": {
  "kernelspec": {
   "display_name": "Python 2",
   "language": "python",
   "name": "python2"
  },
  "language_info": {
   "codemirror_mode": {
    "name": "ipython",
    "version": 2
   },
   "file_extension": ".py",
   "mimetype": "text/x-python",
   "name": "python",
   "nbconvert_exporter": "python",
   "pygments_lexer": "ipython2",
   "version": "2.7.10"
  }
 },
 "nbformat": 4,
 "nbformat_minor": 0
}
