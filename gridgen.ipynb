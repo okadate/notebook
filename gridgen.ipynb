{
 "cells": [
  {
   "cell_type": "code",
   "execution_count": 1,
   "metadata": {
    "collapsed": false
   },
   "outputs": [
    {
     "name": "stdout",
     "output_type": "stream",
     "text": [
      "scrip.so not found. Remapping function will not be available\n"
     ]
    }
   ],
   "source": [
    "import pyroms"
   ]
  },
  {
   "cell_type": "code",
   "execution_count": 13,
   "metadata": {
    "collapsed": false
   },
   "outputs": [],
   "source": [
    "import numpy as np\n",
    "xbry = [0,0,5,5]\n",
    "ybry = [5,0,0,5]\n",
    "beta = [1,1,1,1]\n",
    "shape = (20,20)\n",
    "\n",
    "grd = pyroms.grid.ROMS_Grid(\"ob500\")"
   ]
  },
  {
   "cell_type": "code",
   "execution_count": 24,
   "metadata": {
    "collapsed": false
   },
   "outputs": [],
   "source": [
    "s = grd.vgrid(np.array([10, 5]), 0, 3, 0.5, 20)"
   ]
  },
  {
   "cell_type": "code",
   "execution_count": 27,
   "metadata": {
    "collapsed": false
   },
   "outputs": [],
   "source": [
    "grd.hgrid?"
   ]
  },
  {
   "cell_type": "code",
   "execution_count": 29,
   "metadata": {
    "collapsed": false
   },
   "outputs": [
    {
     "data": {
      "text/plain": [
       "masked_array(data =\n",
       " [[-- -- -- 0.5 0.5 0.5 0.5]\n",
       " [-- -- -- 1.5 1.5 1.5 1.5]\n",
       " [-- -- -- 2.5 2.5 2.5 2.5]\n",
       " [3.5 3.5 3.5 3.5 3.5 3.5 3.5]\n",
       " [4.5 4.5 4.5 4.5 4.5 4.5 4.5]\n",
       " [5.5 5.5 5.5 5.5 5.5 5.5 5.5]],\n",
       "             mask =\n",
       " [[ True  True  True False False False False]\n",
       " [ True  True  True False False False False]\n",
       " [ True  True  True False False False False]\n",
       " [False False False False False False False]\n",
       " [False False False False False False False]\n",
       " [False False False False False False False]],\n",
       "       fill_value = 1e+20)"
      ]
     },
     "execution_count": 29,
     "metadata": {},
     "output_type": "execute_result"
    }
   ],
   "source": [
    "x, y = np.mgrid[0.0:7.0, 0.0:8.0]\n",
    "x = np.ma.masked_where( (x<3) & (y<3), x)\n",
    "y = np.ma.MaskedArray(y, x.mask)\n",
    "grd = pyroms.grid.CGrid(x, y)\n",
    "grd.x_rho"
   ]
  },
  {
   "cell_type": "code",
   "execution_count": 30,
   "metadata": {
    "collapsed": true
   },
   "outputs": [],
   "source": [
    "grd.name = \"test\""
   ]
  },
  {
   "cell_type": "code",
   "execution_count": 32,
   "metadata": {
    "collapsed": false
   },
   "outputs": [
    {
     "ename": "AttributeError",
     "evalue": "'CGrid' object has no attribute 'hgrid'",
     "output_type": "error",
     "traceback": [
      "\u001b[1;31m---------------------------------------------------------------------------\u001b[0m",
      "\u001b[1;31mAttributeError\u001b[0m                            Traceback (most recent call last)",
      "\u001b[1;32m<ipython-input-32-3a973f4f4487>\u001b[0m in \u001b[0;36m<module>\u001b[1;34m()\u001b[0m\n\u001b[1;32m----> 1\u001b[1;33m \u001b[0mpyroms\u001b[0m\u001b[1;33m.\u001b[0m\u001b[0mgrid\u001b[0m\u001b[1;33m.\u001b[0m\u001b[0mwrite_ROMS_grid\u001b[0m\u001b[1;33m(\u001b[0m\u001b[0mgrd\u001b[0m\u001b[1;33m,\u001b[0m \u001b[1;34m\"test_grd.nc\"\u001b[0m\u001b[1;33m)\u001b[0m\u001b[1;33m\u001b[0m\u001b[0m\n\u001b[0m",
      "\u001b[1;32m/home/okada/anaconda/lib/python2.7/site-packages/pyroms/grid.pyc\u001b[0m in \u001b[0;36mwrite_ROMS_grid\u001b[1;34m(grd, filename)\u001b[0m\n\u001b[0;32m    485\u001b[0m     \"\"\"\n\u001b[0;32m    486\u001b[0m \u001b[1;33m\u001b[0m\u001b[0m\n\u001b[1;32m--> 487\u001b[1;33m     \u001b[0mMm\u001b[0m\u001b[1;33m,\u001b[0m \u001b[0mLm\u001b[0m \u001b[1;33m=\u001b[0m \u001b[0mgrd\u001b[0m\u001b[1;33m.\u001b[0m\u001b[0mhgrid\u001b[0m\u001b[1;33m.\u001b[0m\u001b[0mx_rho\u001b[0m\u001b[1;33m.\u001b[0m\u001b[0mshape\u001b[0m\u001b[1;33m\u001b[0m\u001b[0m\n\u001b[0m\u001b[0;32m    488\u001b[0m \u001b[1;33m\u001b[0m\u001b[0m\n\u001b[0;32m    489\u001b[0m \u001b[1;33m\u001b[0m\u001b[0m\n",
      "\u001b[1;31mAttributeError\u001b[0m: 'CGrid' object has no attribute 'hgrid'"
     ]
    }
   ],
   "source": [
    "pyroms.grid.write_ROMS_grid(grd, \"test_grd.nc\")"
   ]
  },
  {
   "cell_type": "code",
   "execution_count": null,
   "metadata": {
    "collapsed": true
   },
   "outputs": [],
   "source": [
    "grd."
   ]
  }
 ],
 "metadata": {
  "kernelspec": {
   "display_name": "Python 2",
   "language": "python",
   "name": "python2"
  },
  "language_info": {
   "codemirror_mode": {
    "name": "ipython",
    "version": 2
   },
   "file_extension": ".py",
   "mimetype": "text/x-python",
   "name": "python",
   "nbconvert_exporter": "python",
   "pygments_lexer": "ipython2",
   "version": "2.7.10"
  }
 },
 "nbformat": 4,
 "nbformat_minor": 0
}
