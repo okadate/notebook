{
 "cells": [
  {
   "cell_type": "code",
   "execution_count": 17,
   "metadata": {
    "collapsed": false
   },
   "outputs": [],
   "source": [
    "%matplotlib inline\n",
    "\n",
    "import matplotlib.pyplot as plt\n",
    "import netCDF4\n",
    "import numpy as np\n",
    "import pandas as pd\n",
    "import datetime as dt\n",
    "\n",
    "tunit_JST = 'days since 1968-05-23 09:00:00 GMT'\n",
    "\n",
    "obsfile = '/Users/teruhisa/Dropbox/Data/ob500_obs_2012_obweb-2.nc'\n",
    "modfile = '/Users/teruhisa/Dropbox/Data/OB500_fennelP/NL02/ob500_mod.nc'\n",
    "\n",
    "mod = netCDF4.Dataset(modfile, 'r')\n",
    "obs = netCDF4.Dataset(obsfile, 'r')"
   ]
  },
  {
   "cell_type": "code",
   "execution_count": 18,
   "metadata": {
    "collapsed": false
   },
   "outputs": [
    {
     "data": {
      "text/plain": [
       "(array([    0,     1,     2, ..., 40730, 40731, 40732]),)"
      ]
     },
     "execution_count": 18,
     "metadata": {},
     "output_type": "execute_result"
    }
   ],
   "source": [
    "varname = 'temp'\n",
    "varid = 6\n",
    "\n",
    "time = obs.variables['obs_time'][:]\n",
    "time = netCDF4.num2date(time, tunit_JST)\n",
    "index = np.where(time < dt.datetime(2012,1,5,0))\n",
    "index"
   ]
  },
  {
   "cell_type": "code",
   "execution_count": 19,
   "metadata": {
    "collapsed": false
   },
   "outputs": [],
   "source": [
    "x = mod.variables['NLmodel_value'][index]\n",
    "y = obs.variables['obs_value'][index]\n",
    "type = obs.variables['obs_type'][index]\n",
    "depth = obs.variables['obs_depth'][index]\n",
    "station = obs.variables['obs_station'][index]"
   ]
  },
  {
   "cell_type": "code",
   "execution_count": 20,
   "metadata": {
    "collapsed": false
   },
   "outputs": [
    {
     "data": {
      "text/plain": [
       "<matplotlib.axes._subplots.AxesSubplot at 0x10a33e510>"
      ]
     },
     "execution_count": 20,
     "metadata": {},
     "output_type": "execute_result"
    },
    {
     "data": {
      "image/png": "[encoded data removed]",
      "text/plain": [
       "<matplotlib.figure.Figure at 0x10a202710>"
      ]
     },
     "metadata": {},
     "output_type": "display_data"
    }
   ],
   "source": [
    "data = {'station': station, 'depth': depth, 'type': type, 'x': x, 'y': y}\n",
    "df = pd.DataFrame(data, index=time[index])\n",
    "df = df[df.x<999.9]\n",
    "df = df[df.x>1.0]\n",
    "df = df[df.type==10]\n",
    "#df = df[df.station==1]\n",
    "df['error'] = df.y - df.x\n",
    "df['SE'] = df.error ** 2\n",
    "df = df.resample('H', how='mean')\n",
    "df['RMSE'] = np.sqrt(df.SE)\n",
    "df.RMSE.plot()\n",
    "#df"
   ]
  },
  {
   "cell_type": "code",
   "execution_count": null,
   "metadata": {
    "collapsed": false,
    "scrolled": true
   },
   "outputs": [],
   "source": []
  },
  {
   "cell_type": "code",
   "execution_count": null,
   "metadata": {
    "collapsed": true
   },
   "outputs": [],
   "source": []
  }
 ],
 "metadata": {
  "kernelspec": {
   "display_name": "Python 2",
   "language": "python",
   "name": "python2"
  },
  "language_info": {
   "codemirror_mode": {
    "name": "ipython",
    "version": 2
   },
   "file_extension": ".py",
   "mimetype": "text/x-python",
   "name": "python",
   "nbconvert_exporter": "python",
   "pygments_lexer": "ipython2",
   "version": "2.7.10"
  }
 },
 "nbformat": 4,
 "nbformat_minor": 0
}
