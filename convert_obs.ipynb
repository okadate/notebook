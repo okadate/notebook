{
 "cells": [
  {
   "cell_type": "code",
   "execution_count": null,
   "metadata": {
    "collapsed": false
   },
   "outputs": [],
   "source": [
    "# coding: utf-8\n",
    "\n",
    "import pandas as pd\n",
    "\n",
    "def prepare(station, csvfile):\n",
    "\n",
    "    df = pd.read_csv(csvfile, parse_dates={'datetime':['date','hour']}, na_values='*')\n",
    "    df['station'] = station\n",
    "\n",
    "    if station in [3, 4, 5, 6, 7, 12, 13]:\n",
    "        vtypes = {'temperature':6, 'salilnity':7, 'DO':19, 'chlorophyll':10}\n",
    "    elif station in [1, 2, 10, 11]:\n",
    "        vtypes = {'temperature':6, 'salilnity':7}\n",
    "    elif station in [8, 9]:\n",
    "        vtypes = {'temperature':6}\n",
    "\n",
    "    for k, v in vtypes.items():\n",
    "        var = df[['datetime','station','depth',k]]\n",
    "        var.columns = ['datetime','station', 'depth','value']\n",
    "        var['type'] = v\n",
    "        try:\n",
    "            obs = obs.append(var)\n",
    "        except:\n",
    "            obs = var\n",
    "\n",
    "    return obs\n",
    "\n",
    "obs = prepare(1, '/Users/teruhisa/Dropbox/Data/obweb/db/akashi_q2.csv')\n",
    "obs = obs.append(prepare(2, '/Users/teruhisa/Dropbox/Data/obweb/db/sumoto_q2.csv'))\n",
    "obs = obs.append(prepare(3, '/Users/teruhisa/Dropbox/Data/obweb/db/kansaiAP_q1.csv'))\n",
    "obs = obs.append(prepare(4, '/Users/teruhisa/Dropbox/Data/obweb/db/kobe_q1.csv'))\n",
    "obs = obs.append(prepare(5, '/Users/teruhisa/Dropbox/Data/obweb/db/yodo_q1.csv'))\n",
    "obs = obs.append(prepare(6, '/Users/teruhisa/Dropbox/Data/obweb/db/hannan_q1.csv'))\n",
    "obs = obs.append(prepare(7, '/Users/teruhisa/Dropbox/Data/obweb/db/sakaihama_q1.csv'))\n",
    "obs = obs.append(prepare(10, '/Users/teruhisa/Dropbox/Data/obweb/db/awaji_q2.csv'))\n",
    "obs = obs.append(prepare(11, '/Users/teruhisa/Dropbox/Data/obweb/db/suma_q2.csv'))\n",
    "obs = obs.append(prepare(12, '/Users/teruhisa/Dropbox/Data/obweb/db/osaka_q1.csv'))\n",
    "obs = obs.append(prepare(13, '/Users/teruhisa/Dropbox/Data/obweb/db/kishiwada_q1.csv'))\n",
    "\n",
    "obs.to_csv('converted_obs.csv')"
   ]
  }
 ],
 "metadata": {
  "kernelspec": {
   "display_name": "Python 2",
   "language": "python",
   "name": "python2"
  },
  "language_info": {
   "codemirror_mode": {
    "name": "ipython",
    "version": 2
   },
   "file_extension": ".py",
   "mimetype": "text/x-python",
   "name": "python",
   "nbconvert_exporter": "python",
   "pygments_lexer": "ipython2",
   "version": "2.7.10"
  }
 },
 "nbformat": 4,
 "nbformat_minor": 0
}
