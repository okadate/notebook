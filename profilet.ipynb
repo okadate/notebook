{
 "cells": [
  {
   "cell_type": "code",
   "execution_count": 59,
   "metadata": {
    "collapsed": true
   },
   "outputs": [],
   "source": [
    "%matplotlib inline\n",
    "\n",
    "import matplotlib.pyplot as plt\n",
    "from matplotlib.dates import DateFormatter\n",
    "import datetime as dt\n",
    "import numpy as np\n",
    "import netCDF4\n",
    "import pandas as pd\n",
    "\n",
    "\n",
    "pdt = dt.datetime(2012,8,1,0)\n",
    "station = 4\n",
    "freefile = '/Users/teruhisa/Dropbox/Data/OB500_fennelP/NL/ob500_sta.nc'\n",
    "obsfile = '/Users/teruhisa/Dropbox/Data/ob500_obs_2012_obweb-1.nc'\n",
    "pngfile = '/Users/teruhisa/Dropbox/Data/OB500_fennelP/NL/profiles_{}_{}.png'"
   ]
  },
  {
   "cell_type": "code",
   "execution_count": 76,
   "metadata": {
    "collapsed": false
   },
   "outputs": [
    {
     "name": "stdout",
     "output_type": "stream",
     "text": [
      "12 temp /Users/teruhisa/Dropbox/Data/OB500_fennelP/NL/ob500_sta.nc\n",
      "12 temp /Users/teruhisa/Dropbox/Data/ob500_obs_2012_obweb-1.nc\n"
     ]
    },
    {
     "data": {
      "image/png": "[encoded data removed]",
      "text/plain": [
       "<matplotlib.figure.Figure at 0x106ab7910>"
      ]
     },
     "metadata": {},
     "output_type": "display_data"
    }
   ],
   "source": [
    "\n",
    "sec_JST = 'seconds since 1968-05-23 09:00:00 GMT'\n",
    "hour_JST = 'hours since 1968-05-23 09:00:00 GMT'\n",
    "\n",
    "\n",
    "def staparser(ncfile, station, varname):\n",
    "\n",
    "    print station, varname, ncfile\n",
    "    s = station-1\n",
    "\n",
    "    nc = netCDF4.Dataset(ncfile, 'r')\n",
    "    kmax = len(nc.dimensions['s_rho'])\n",
    "    h = nc.variables['h'][s]\n",
    "    Cs_r = nc.variables['Cs_r'][:]\n",
    "    \n",
    "    time = nc.variables['ocean_time'][:]\n",
    "    time = netCDF4.num2date(time, sec_JST)\n",
    "    tmax = len(time)\n",
    "    \n",
    "    zeta = nc.variables['zeta'][:,s]\n",
    "    var = nc.variables[varname][:,s,:]\n",
    "    nc.close()\n",
    "\n",
    "    depth = np.ndarray(shape=[tmax, kmax])\n",
    "    for t in xrange(tmax):\n",
    "        for k in range(kmax):\n",
    "            depth[t, k] = (h+zeta[t]) * Cs_r[k]\n",
    "    \n",
    "    return time, depth[0,:], var.T\n",
    "    \n",
    "\n",
    "def obsparser(ncfile, station, varname):\n",
    "\n",
    "    print station, varname, ncfile\n",
    "    s = station-1\n",
    "    types = {'temp':6, 'salt':7, 'chlorophyll': 10, 'oxygen':15}\n",
    "\n",
    "    nc = netCDF4.Dataset(ncfile, 'r')\n",
    "    type = nc.variables['obs_type'][:]\n",
    "    station = nc.variables['obs_station'][:]\n",
    "    \n",
    "    index = np.where((type==types[varname]) & (station==s))\n",
    "    \n",
    "    time = nc.variables['obs_time'][index]\n",
    "    depth = nc.variables['obs_depth'][index]\n",
    "    value = nc.variables['obs_value'][index]\n",
    "    nc.close()\n",
    "    \n",
    "    data = {'time':time, 'depth':depth, 'value':value}\n",
    "    df = pd.DataFrame(data)\n",
    "    pv = df.pivot(index='time', columns='depth', values='value')\n",
    "    \n",
    "    return pv.index, pv.columns, pv.values.T\n",
    "    \n",
    "\n",
    "varname = 'temp'\n",
    "station = 12\n",
    "ftime, fdepth, fvalue = staparser(freefile, station, varname)\n",
    "otime, odepth, ovalue = obsparser(obsfile, station, varname)\n",
    "\n",
    "fig, ax = plt.subplots(2, 1, figsize=[12,5])\n",
    "\n",
    "obs = ax[0].contourf(otime, odepth, ovalue) \n",
    "free = ax[1].contourf(ftime, fdepth, fvalue) \n",
    "cb = plt.colorbar(obs, ax=ax[0])\n",
    "cb = plt.colorbar(free, ax=ax[1])\n",
    "\n",
    "for i in range(2):\n",
    "    #ax[i].set_xlim(dt.datetime(2012,1,1,0), dt.datetime(2012, 10,1,0))\n",
    "    #ax[i].set_ylim()\n",
    "    ax[i].xaxis.set_major_formatter( DateFormatter('%m/%d') )\n",
    "    ax[i].set_ylabel('depth(m)')\n",
    "    #cb.set_label(cblabel)"
   ]
  },
  {
   "cell_type": "code",
   "execution_count": null,
   "metadata": {
    "collapsed": true
   },
   "outputs": [],
   "source": []
  }
 ],
 "metadata": {
  "kernelspec": {
   "display_name": "Python 2",
   "language": "python",
   "name": "python2"
  },
  "language_info": {
   "codemirror_mode": {
    "name": "ipython",
    "version": 2
   },
   "file_extension": ".py",
   "mimetype": "text/x-python",
   "name": "python",
   "nbconvert_exporter": "python",
   "pygments_lexer": "ipython2",
   "version": "2.7.10"
  }
 },
 "nbformat": 4,
 "nbformat_minor": 0
}
