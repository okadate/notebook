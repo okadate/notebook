{
 "cells": [
  {
   "cell_type": "code",
   "execution_count": 4,
   "metadata": {
    "collapsed": false
   },
   "outputs": [],
   "source": [
    "%matplotlib inline\n",
    "\n",
    "import csv\n",
    "import netCDF4\n",
    "import numpy as np\n",
    "import matplotlib.pyplot as plt\n",
    "import sys\n",
    "import datetime as dt\n",
    "import pandas as pd\n",
    "\n",
    "def read_sta(filename, pdt):\n",
    "    \n",
    "    print filename\n",
    "    print pdt\n",
    "    \n",
    "    nc = netCDF4.Dataset(filename, 'r')\n",
    "    station = len(nc.dimensions['station'])\n",
    "    s_rho = len(nc.dimensions['s_rho'])\n",
    "    h = nc.variables['h'][:]\n",
    "    Cs_r = nc.variables['Cs_r'][:]\n",
    "    ocean_time = nc.variables['ocean_time'][:]\n",
    "    #time_units = nc.variables['ocean_time'].units\n",
    "    time_units = 'seconds since 2012-06-01 00:00:00'\n",
    "    \n",
    "    print netCDF4.num2date(ocean_time[0], time_units),'-',netCDF4.num2date(ocean_time[-1], time_units)\n",
    "    \n",
    "    ptime = netCDF4.date2num(pdt, time_units)\n",
    "    t = np.where(ocean_time == ptime)[0][0]\n",
    "    \n",
    "    print t\n",
    "            \n",
    "    zeta = nc.variables['zeta'][t,:]\n",
    "    depth = np.ndarray(shape=[station,s_rho])\n",
    "    for n in range(s_rho):\n",
    "        for sta in range(station):\n",
    "            depth[sta, n] = (h[sta]+zeta[sta]) * Cs_r[n]\n",
    "    return nc, t, depth\n",
    "\n",
    "def plot_sta(vname, station, nc, t, depth, ax, label):\n",
    "\n",
    "    var = nc.variables[vname]\n",
    "    if vname == 'phytoplankton':\n",
    "        cff = 1.0/0.2515/2.18\n",
    "    else:\n",
    "        cff = 1.0\n",
    "    if label == 'Free': line = '--'\n",
    "    if label == 'Assi': line = '-'\n",
    "    \n",
    "    ax.plot(var[t,station-1,:]*cff, depth[station-1,:], line, c=c[vname], label=label)\n",
    "\n",
    "    #ax.tick_params(labelleft='off')\n",
    "    ax.set_ylim(-14,0)\n",
    "    ax.set_title('Sta.{}, {}'.format(station, pdt.strftime('%Y-%m-%d %H:%M')))\n",
    "    ax.grid()"
   ]
  },
  {
   "cell_type": "code",
   "execution_count": 5,
   "metadata": {
    "collapsed": false
   },
   "outputs": [],
   "source": [
    "def read_obs(obsfile, pdt):\n",
    "    \n",
    "    print obsfile\n",
    "    print pdt\n",
    "    \n",
    "    nc = netCDF4.Dataset(obsfile, 'r')\n",
    "    tunits = nc.variables['obs_time'].units\n",
    "    ptime = netCDF4.date2num(pdt, tunits)\n",
    "    print ptime\n",
    "    \n",
    "    obs_time = nc.variables['obs_time'][:]\n",
    "    print netCDF4.num2date(obs_time[0], tunits),'-',netCDF4.num2date(obs_time[-1], tunits)\n",
    "    \n",
    "    t = np.where(obs_time == ptime)[0]\n",
    "    obs_station = nc.variables['obs_station'][t[0]:t[-1]]\n",
    "    obs_type = nc.variables['obs_type'][t[0]:t[-1]]\n",
    "    obs_depth = nc.variables['obs_depth'][t[0]:t[-1]]\n",
    "    obs_value = nc.variables['obs_value'][t[0]:t[-1]]\n",
    "    \n",
    "    df = pd.DataFrame(data={'station':obs_station, 'depth':obs_depth, 'type':obs_type, 'value':obs_value})\n",
    "    return df\n",
    "\n",
    "def plot_obs(vname, station, obs, ax):\n",
    "    \n",
    "    if vname == 'temp': vid = 6\n",
    "    if vname == 'salt': vid = 7\n",
    "    if vname == 'NO3': return\n",
    "    if vname == 'zooplankton': return\n",
    "    if vname == 'detritus': return\n",
    "    if vname == 'phytoplankton':\n",
    "        vid = 10\n",
    "        cff = 1.0/0.2515/2.18\n",
    "    else:\n",
    "        cff = 1.0\n",
    "    \n",
    "    var = obs[obs.station == station]\n",
    "    var = var[var.type == vid]\n",
    "    ax.plot(var.value*cff, var.depth, 'o', mec='k', mfc='w',mew=1, label='Obs')"
   ]
  },
  {
   "cell_type": "code",
   "execution_count": 8,
   "metadata": {
    "collapsed": false
   },
   "outputs": [
    {
     "name": "stdout",
     "output_type": "stream",
     "text": [
      "/Users/teruhisa/Dropbox/Data/mpi00_fujii/non_wq_runk_NL_20120608_5/osaka-bay_sta.nc\n",
      "2012-08-24 00:00:00\n",
      "2012-06-01 00:00:00 - 2012-08-30 00:00:00\n",
      "2016\n"
     ]
    }
   ],
   "source": [
    "pdt = dt.datetime(2012,8,24,0)\n",
    "\n",
    "free = '/Users/teruhisa/Dropbox/Data/mpi00_fujii/non_wq_runk_NL_20120608_5/osaka-bay_sta.nc'\n",
    "free, ft, fdepth = read_sta(free, pdt)"
   ]
  },
  {
   "cell_type": "code",
   "execution_count": 9,
   "metadata": {
    "collapsed": false
   },
   "outputs": [
    {
     "name": "stdout",
     "output_type": "stream",
     "text": [
      "/Users/teruhisa/Dropbox/Data/mpi00_fujii/group_4dvar210_2_sta/osaka-bay_sta_024.nc\n",
      "2012-08-24 00:00:00\n",
      "2012-08-23 23:50:00 - 2012-08-24 00:50:00\n",
      "1\n"
     ]
    }
   ],
   "source": [
    "assi = '/Users/teruhisa/Dropbox/Data/mpi00_fujii/group_4dvar210_2_sta/osaka-bay_sta_024.nc'\n",
    "assi, at, adepth = read_sta(assi, pdt)"
   ]
  },
  {
   "cell_type": "code",
   "execution_count": 10,
   "metadata": {
    "collapsed": false
   },
   "outputs": [
    {
     "name": "stdout",
     "output_type": "stream",
     "text": [
      "/Users/teruhisa/Dropbox/Data/ob500_obs_tsdc.nc\n",
      "2012-08-24 00:00:00\n",
      "16164.0\n",
      "2011-12-31 15:00:00 - 2013-01-01 14:00:00.000013\n"
     ]
    }
   ],
   "source": [
    "obs = '/Users/teruhisa/Dropbox/Data/ob500_obs_tsdc.nc'\n",
    "obs = read_obs(obs, pdt)"
   ]
  },
  {
   "cell_type": "code",
   "execution_count": 11,
   "metadata": {
    "collapsed": false
   },
   "outputs": [
    {
     "data": {
      "text/plain": [
       "(0, 2)"
      ]
     },
     "execution_count": 11,
     "metadata": {},
     "output_type": "execute_result"
    },
    {
     "data": {
      "image/png": "[encoded data removed]",
      "text/plain": [
       "<matplotlib.figure.Figure at 0x107f8c2d0>"
      ]
     },
     "metadata": {},
     "output_type": "display_data"
    }
   ],
   "source": [
    "station = 12\n",
    "\n",
    "vnames = ['temp', 'salt', 'phytoplankton', 'NO3', 'zooplankton', 'detritus']\n",
    "    \n",
    "c = {}\n",
    "c['temp'] = 'c'\n",
    "c['salt'] = 'k'\n",
    "c['phytoplankton'] = 'g'\n",
    "c['NO3'] = 'r'\n",
    "c['zooplankton'] = 'b'\n",
    "c['detritus'] = 'm'\n",
    "\n",
    "fig, ax = plt.subplots(1, len(vnames), figsize=[20,3])\n",
    "for i, vname in enumerate(vnames):\n",
    "    plot_sta(vname, station, free, ft, fdepth, ax[i], 'Free')\n",
    "    plot_sta(vname, station, assi, at, adepth, ax[i], 'Assi')\n",
    "    plot_obs(vname, station, obs, ax[i])\n",
    "    ax[i].grid()\n",
    "\n",
    "ax[0].set_xlabel('Temperature [degC]')\n",
    "ax[0].set_xlim(23,33)\n",
    "ax[0].tick_params(labelleft='on')\n",
    "\n",
    "ax[1].set_xlabel('Salinity')\n",
    "ax[1].set_xlim(15,33)\n",
    "\n",
    "ax[2].set_xlabel('Chlorophyll [mg m$^{-3}$]')\n",
    "#ax[2].set_xlim(0,20)\n",
    "\n",
    "mol = u' [mmol N m$^{-3}$]'\n",
    "ax[3].set_xlabel('NO3'+mol)\n",
    "ax[3].set_xlim(0,0.5)\n",
    "\n",
    "ax[4].set_xlabel('Zooplankton'+mol)\n",
    "ax[4].set_xlim(0,2.5)\n",
    "\n",
    "ax[5].set_xlabel('Detritus'+mol)\n",
    "ax[5].set_xlim(0,2)"
   ]
  },
  {
   "cell_type": "code",
   "execution_count": 16,
   "metadata": {
    "collapsed": false
   },
   "outputs": [],
   "source": [
    "strtime = pdt.strftime('%Y%m%d_%H%M')\n",
    "fig.savefig('/Users/teruhisa/Dropbox/0715_Lunch/profiles_{}_{}.png'.format(station, strtime), bbox_inches='tight', dpi=300)"
   ]
  },
  {
   "cell_type": "code",
   "execution_count": null,
   "metadata": {
    "collapsed": true
   },
   "outputs": [],
   "source": []
  }
 ],
 "metadata": {
  "kernelspec": {
   "display_name": "Python 2",
   "language": "python",
   "name": "python2"
  },
  "language_info": {
   "codemirror_mode": {
    "name": "ipython",
    "version": 2
   },
   "file_extension": ".py",
   "mimetype": "text/x-python",
   "name": "python",
   "nbconvert_exporter": "python",
   "pygments_lexer": "ipython2",
   "version": "2.7.10"
  }
 },
 "nbformat": 4,
 "nbformat_minor": 0
}
