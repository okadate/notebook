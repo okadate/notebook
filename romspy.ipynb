{
 "cells": [
  {
   "cell_type": "code",
   "execution_count": 49,
   "metadata": {
    "collapsed": false,
    "scrolled": true
   },
   "outputs": [],
   "source": [
    "# coding: utf-8\n",
    "\n",
    "# (c) 2015 Teruhisa Okada\n",
    "\n",
    "% matplotlib inline\n",
    "\n",
    "import netCDF4\n",
    "import matplotlib.pyplot as plt\n",
    "import romspy\n",
    "\n",
    "class Dataset(object):\n",
    "    \n",
    "    def __init__(self, ncfile, filetype=None):\n",
    "        self.ncfile = ncfile\n",
    "        self.nc = netCDF4.Dataset(ncfile)\n",
    "        self.filetype = filetype\n",
    "        \n",
    "    def ptime(self, t=None, name='ocean_time', unit=romspy.JST):\n",
    "        if self.filetype == 'obs':\n",
    "            name = 'obs_time'\n",
    "            unit = romspy.JST_days\n",
    "        print \"\\nptime(t={}, name={}, unit={})\".format(t, name, unit)\n",
    "        time = self.nc.variables[name]\n",
    "        print name, '=', len(time)\n",
    "        print netCDF4.num2date(time[0], unit), 0\n",
    "        if t is not None:\n",
    "            print netCDF4.num2date(time[t], unit), t\n",
    "        if len(time) > 1:\n",
    "            print netCDF4.num2date(time[-1], unit), len(time)\n",
    "        \n",
    "    def pvname(self, ndim=None):\n",
    "        print '\\npvname(ndim={})'.format(ndim)\n",
    "        var = self.nc.variables\n",
    "        for vname in var.keys():\n",
    "            if ndim is None:\n",
    "                print vname\n",
    "            elif var[vname].ndim == ndim:\n",
    "                print vname\n",
    "\n",
    "    def show(self):\n",
    "        plt.show()\n",
    "\n",
    "    def savefig(self, figfile='test.png'):\n",
    "        plt.savefig(figfile, bbox_inches='tight')\n",
    "        plt.close()\n",
    "        \n",
    "class His(Dataset):\n",
    "    \n",
    "    def hview(self):\n",
    "        pass\n",
    "        \n",
    "class Sta(Dataset):\n",
    "    \n",
    "    def vview(self):\n",
    "        pass\n",
    "\n",
    "ncfile = 'Z:/Data/ob500_rst_NL08_0101.nc'\n",
    "#ncfile = 'Z:/Data/ob500_obs_2012_bio-2.nc'\n",
    "\n",
    "his = His(ncfile)\n",
    "his.hview()"
   ]
  },
  {
   "cell_type": "code",
   "execution_count": null,
   "metadata": {
    "collapsed": true
   },
   "outputs": [],
   "source": [
    "    "
   ]
  },
  {
   "cell_type": "code",
   "execution_count": null,
   "metadata": {
    "collapsed": true
   },
   "outputs": [],
   "source": []
  }
 ],
 "metadata": {
  "kernelspec": {
   "display_name": "Python 2",
   "language": "python",
   "name": "python2"
  },
  "language_info": {
   "codemirror_mode": {
    "name": "ipython",
    "version": 2
   },
   "file_extension": ".py",
   "mimetype": "text/x-python",
   "name": "python",
   "nbconvert_exporter": "python",
   "pygments_lexer": "ipython2",
   "version": "2.7.10"
  }
 },
 "nbformat": 4,
 "nbformat_minor": 0
}
